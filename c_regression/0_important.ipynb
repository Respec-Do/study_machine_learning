{
 "cells": [
  {
   "cell_type": "markdown",
   "id": "5186b513-930a-4672-9228-6b61a223f07b",
   "metadata": {},
   "source": [
    "## ★ 회귀 분석\r\n",
    "- 수치형, 범주형\r\n",
    "- 타겟 데이터 분포\r\n",
    "- 상관관계 corr()\r\n",
    "- OLS\r\n",
    "- VIF\r\n",
    "- One-Hot 인코딩 지양\r\n",
    "- Label 인코딩 순서에 맞게 전처리\r\n",
    "- (x1 * W1 + x2 * w2) * w_category = new_feature\r\n",
    "  상관성이 있는 데이터끼리 feature engineering"
   ]
  }
 ],
 "metadata": {
  "kernelspec": {
   "display_name": "Python 3 (ipykernel)",
   "language": "python",
   "name": "python3"
  },
  "language_info": {
   "codemirror_mode": {
    "name": "ipython",
    "version": 3
   },
   "file_extension": ".py",
   "mimetype": "text/x-python",
   "name": "python",
   "nbconvert_exporter": "python",
   "pygments_lexer": "ipython3",
   "version": "3.11.8"
  }
 },
 "nbformat": 4,
 "nbformat_minor": 5
}
